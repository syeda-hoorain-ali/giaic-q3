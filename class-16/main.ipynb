{
 "cells": [
  {
   "cell_type": "markdown",
   "id": "67db4da2",
   "metadata": {},
   "source": [
    "# Advance Tools in OpenAI Agents SDK - 29 August 2025\n",
    "\n",
    "### Configrations"
   ]
  },
  {
   "cell_type": "code",
   "execution_count": null,
   "id": "8787e6ff",
   "metadata": {},
   "outputs": [],
   "source": [
    "import os\n",
    "from agents import set_default_openai_api, set_default_openai_client, set_tracing_disabled\n",
    "\n",
    "from dotenv import find_dotenv, load_dotenv\n",
    "from openai import AsyncOpenAI\n",
    "\n",
    "\n",
    "load_dotenv(find_dotenv())\n",
    "gemini_api_key = os.getenv(\"GEMINI_API_KEY\")\n",
    "\n",
    "if gemini_api_key is None:\n",
    "    raise ValueError(\"Enviroment variable 'GEMINI_API_KEY' is not set.\")\n",
    "\n",
    "\n",
    "#Reference: https://ai.google.dev/gemini-api/docs/openai\n",
    "external_client = AsyncOpenAI(\n",
    "    api_key=gemini_api_key,\n",
    "    base_url=\"https://generativelanguage.googleapis.com/v1beta/openai/\",\n",
    ")\n",
    "\n",
    "set_default_openai_client(external_client)\n",
    "set_tracing_disabled(disabled=True)\n",
    "set_default_openai_api(\"chat_completions\")\n"
   ]
  },
  {
   "cell_type": "markdown",
   "id": "b55e9334",
   "metadata": {},
   "source": [
    "### tool_use_behavior"
   ]
  },
  {
   "cell_type": "code",
   "execution_count": null,
   "id": "fd11439a",
   "metadata": {},
   "outputs": [],
   "source": [
    "from agents import Agent, Runner, function_tool\n",
    "\n",
    "# Simple tools\n",
    "@function_tool\n",
    "def fetch_data():\n",
    "    return { \"name\": \"hamzah\", \"age\": 24 }\n",
    "\n",
    "@function_tool\n",
    "def save_data():\n",
    "    return \"Saved data\"\n",
    "\n",
    "# Create agent\n",
    "agent = Agent(\n",
    "    name=\"Data Manager\",\n",
    "    tools=[fetch_data, save_data],\n",
    "    model=\"gemini-2.0-flash\",\n",
    "    tool_use_behavior=\"stop_on_first_tool\" # default \"run_llm_again\"\n",
    ")\n",
    "\n",
    "result = Runner.run_sync(\n",
    "    starting_agent=agent,\n",
    "    # input=\"hello, fetch user data for me\"\n",
    "    # input=\"fetch user data and save it in the database\"\n",
    "    input=\"save my name is the database: my name is hamzah\"\n",
    ")\n",
    "\n",
    "print(result.final_output)\n"
   ]
  },
  {
   "cell_type": "markdown",
   "id": "43bf0af4",
   "metadata": {},
   "source": [
    "### StopAtTools"
   ]
  },
  {
   "cell_type": "code",
   "execution_count": null,
   "id": "a4032c1c",
   "metadata": {},
   "outputs": [],
   "source": [
    "from agents import Agent, Runner, function_tool, StopAtTools\n",
    "\n",
    "# Simple tools\n",
    "@function_tool\n",
    "def fetch_data():\n",
    "    return { \"name\": \"hamzah\", \"age\": 24 }\n",
    "\n",
    "@function_tool\n",
    "def save_data():\n",
    "    return \"Saved data\"\n",
    "\n",
    "# Create agent\n",
    "agent = Agent(\n",
    "    name=\"Data Manager\",\n",
    "    tools=[fetch_data, save_data],\n",
    "    model=\"gemini-2.0-flash\",\n",
    "    tool_use_behavior=StopAtTools(stop_at_tool_names=[\"fetch_data\"])\n",
    ")\n",
    "\n",
    "result = Runner.run_sync(\n",
    "    starting_agent=agent,\n",
    "    # input=\"hello, fetch user data for me\"\n",
    "    # input=\"fetch user data and save it in the database\"\n",
    "    input=\"save my name is the database: my name is hamzah\"\n",
    "\n",
    ")\n",
    "\n",
    "print(result.final_output)\n"
   ]
  },
  {
   "cell_type": "markdown",
   "id": "0a28c560",
   "metadata": {},
   "source": [
    "### name_override, description_override, is_enabled"
   ]
  },
  {
   "cell_type": "code",
   "execution_count": null,
   "id": "240283de",
   "metadata": {},
   "outputs": [],
   "source": [
    "from agents import Agent, Runner, function_tool\n",
    "\n",
    "# Simple tools\n",
    "@function_tool\n",
    "def fetch_data():\n",
    "    return { \"name\": \"hamzah\", \"age\": 24 }\n",
    "\n",
    "@function_tool(\n",
    "    name_override=\"save_user_data\", \n",
    "    description_override=\"this fn is saving user data\",\n",
    "    is_enabled=False,\n",
    ")\n",
    "def save_data():\n",
    "    \"\"\"this function is saving data\"\"\"\n",
    "    return \"Saved data\"\n",
    "\n",
    "# Create agent\n",
    "agent = Agent(\n",
    "    name=\"Data Manager\",\n",
    "    tools=[fetch_data, save_data],\n",
    "    model=\"gemini-2.0-flash\",\n",
    ")\n",
    "\n",
    "result = Runner.run_sync(\n",
    "    starting_agent=agent,\n",
    "    input=\"save my name is the database: my name is hamzah\"\n",
    ")\n",
    "\n",
    "print(result.final_output)\n"
   ]
  },
  {
   "cell_type": "markdown",
   "id": "0a6aebf8",
   "metadata": {},
   "source": [
    "### Dynamic is_enabled"
   ]
  },
  {
   "cell_type": "code",
   "execution_count": null,
   "id": "a4796389",
   "metadata": {},
   "outputs": [],
   "source": [
    "from agents import Agent, Runner, function_tool\n",
    "\n",
    "# Simple tools\n",
    "@function_tool\n",
    "def fetch_data():\n",
    "    return { \"name\": \"hamzah\", \"age\": 24 }\n",
    "\n",
    "def check_is_admin():\n",
    "    return False\n",
    "\n",
    "@function_tool(\n",
    "    name_override=\"save_user_data\", \n",
    "    description_override=\"this fn is saving user data\",\n",
    "    is_enabled=check_is_admin(),\n",
    ")\n",
    "def save_data():\n",
    "    \"\"\"this function is saving data\"\"\"\n",
    "    return \"Saved data\"\n",
    "\n",
    "# Create agent\n",
    "agent = Agent(\n",
    "    name=\"Data Manager\",\n",
    "    tools=[fetch_data, save_data],\n",
    "    model=\"gemini-2.0-flash\",\n",
    "    tool_use_behavior=StopAtTools(stop_at_tool_names=[\"fetch_data\"])\n",
    ")\n",
    "\n",
    "result = Runner.run_sync(\n",
    "    starting_agent=agent,\n",
    "    input=\"save my name is the database: my name is hamzah\"\n",
    ")\n",
    "\n",
    "print(result.final_output)\n"
   ]
  },
  {
   "cell_type": "markdown",
   "id": "16819cf8",
   "metadata": {},
   "source": [
    "### failure_error_function"
   ]
  },
  {
   "cell_type": "code",
   "execution_count": null,
   "id": "df9dbef9",
   "metadata": {},
   "outputs": [],
   "source": [
    "from agents import Agent, Runner, function_tool\n",
    "\n",
    "# Simple tools\n",
    "@function_tool\n",
    "def fetch_data():\n",
    "    return { \"name\": \"hamzah\", \"age\": 24 }\n",
    "\n",
    "def error_handler(context, error: Exception):\n",
    "    # Send mail or msg on whatsapp\n",
    "    print(\"email sent\")\n",
    "    return \"Error handeled\"\n",
    "\n",
    "@function_tool(\n",
    "    failure_error_function=error_handler\n",
    ")\n",
    "def save_data():\n",
    "    \"\"\"this function is saving data\"\"\"\n",
    "    raise Exception(\"Error saving data\")\n",
    "    return \"Saved data\"\n",
    "\n",
    "# Create agent\n",
    "agent = Agent(\n",
    "    name=\"Data Manager\",\n",
    "    tools=[fetch_data, save_data],\n",
    "    model=\"gemini-2.0-flash\",\n",
    ")\n",
    "\n",
    "result = Runner.run_sync(\n",
    "    starting_agent=agent,\n",
    "    input=\"save my name is the database: my name is hamzah\"\n",
    ")\n",
    "\n",
    "print(result.final_output)\n"
   ]
  }
 ],
 "metadata": {
  "kernelspec": {
   "display_name": ".venv",
   "language": "python",
   "name": "python3"
  },
  "language_info": {
   "name": "python",
   "version": "3.12.9"
  }
 },
 "nbformat": 4,
 "nbformat_minor": 5
}
